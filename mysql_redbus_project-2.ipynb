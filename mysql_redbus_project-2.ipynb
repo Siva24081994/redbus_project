{
 "cells": [
  {
   "cell_type": "code",
   "execution_count": 3,
   "id": "3c2baf1a-3185-4a9e-9dee-dc971bf02513",
   "metadata": {
    "scrolled": true
   },
   "outputs": [
    {
     "name": "stdout",
     "output_type": "stream",
     "text": [
      "Data inserted successfully.\n"
     ]
    }
   ],
   "source": [
    "import pandas as pd\n",
    "import mysql.connector\n",
    "\n",
    "# List of CSV file paths[\"bus_det_final_csvfile_2_kaac.csv\"]\n",
    "csv_files = [\"bus_det_final_csvfile_2_kaac.csv\",\"bus_det_final_csvfile_3_meghalaya.csv\",\"bus_det_final_csvfile_5_assam_astc.csv\",\"bus_det_final_csvfile_1_hrtc.csv\"]\n",
    "\n",
    "# Read each CSV file into a DataFrame and concatenate them\n",
    "df_list = [pd.read_csv(file) for file in csv_files]\n",
    "combined_df = pd.concat(df_list, ignore_index=True)\n",
    "\n",
    "# Clean data: remove 'INR ' from Price and extract seat numbers from strings\n",
    "combined_df['Price'] = combined_df['Price'].str.replace('INR ', '')\n",
    "combined_df['Seat_Availability'] = combined_df['Seat_Availability'].str.extract(r'(\\d+)')\n",
    "\n",
    "# Convert Price to decimal and Seat_Availability to integer\n",
    "combined_df['Price'] = pd.to_numeric(combined_df['Price'], errors='coerce').fillna(0).astype(float)\n",
    "combined_df['Seat_Availability'] = combined_df['Seat_Availability'].astype(int)\n",
    "\n",
    "# Convert departing time and reaching time into time format, replacing NaT with None\n",
    "# Convert departing time and reaching time into time format, replacing invalid times with None\n",
    "#combined_df['Departing_Time'] = pd.to_datetime(combined_df['Departing_Time'], format='%H:%M:%S', errors='coerce').dt.time\n",
    "#combined_df['Reaching_Time'] = pd.to_datetime(combined_df['Reaching_Time'], format='%H:%M:%S', errors='coerce').dt.time\n",
    "\n",
    "\n",
    "# Add auto-increment id column\n",
    "combined_df.insert(0, 'id', combined_df.index + 1)\n",
    "\n",
    "# MySQL connection\n",
    "mydb = mysql.connector.connect(\n",
    "    host=\"localhost\",\n",
    "    user=\"root\",\n",
    "    password=\"\",\n",
    "    database=\"Red_bus_project\"\n",
    ")\n",
    "\n",
    "mycursor = mydb.cursor()\n",
    "\n",
    "\n",
    "\n",
    "\n",
    "\n",
    "\n",
    "# Create table query\n",
    "create_table_query = mycursor.execute(\"\"\"CREATE TABLE bus_routes3(\n",
    "    id INT AUTO_INCREMENT PRIMARY KEY,\n",
    "    route_name TEXT NOT NULL,\n",
    "    route_link TEXT,\n",
    "    busname TEXT NOT NULL,\n",
    "    bustype TEXT NOT NULL,\n",
    "    departing_time TIME NOT NULL,\n",
    "    duration TEXT NOT NULL,\n",
    "    reaching_time TIME NOT NULL,\n",
    "    star_rating FLOAT,\n",
    "    price DECIMAL(10, 2) NOT NULL,\n",
    "    seats_available INT NOT NULL)\n",
    "    \"\"\")\n",
    "\n",
    "mycursor.execute(create_table_query)\n",
    "\n",
    "# Insert query (ensure that the column names match exactly with the DataFrame)\n",
    "insert_query = \"\"\"\n",
    "INSERT INTO bus_routes3 (id, route_name, route_link, busname, bustype, departing_time, duration, reaching_time, star_rating, price, seats_available)\n",
    "VALUES (%s, %s, %s, %s, %s, %s, %s, %s, %s, %s, %s)\n",
    "\"\"\"\n",
    "\n",
    "# Insert each row from the DataFrame, ensuring None is passed for missing times\n",
    "for i, row in combined_df.iterrows():\n",
    "    mycursor.execute(insert_query, tuple(row))\n",
    "\n",
    "# Commit the changes\n",
    "mydb.commit()\n",
    "\n",
    "print(\"Data inserted successfully.\")\n"
   ]
  },
  {
   "cell_type": "code",
   "execution_count": null,
   "id": "1cdf0497-c44a-4fa6-959c-d39a5ccb17e1",
   "metadata": {},
   "outputs": [],
   "source": [
    "mycursor.execute(\"SELECT count(*) FROM \")\n",
    "out=mycursor.fetchall()\n",
    "from tabulate import tabulate\n",
    "print(tabulate(out,headers=[i[0] for i in mycursor.description],  tablefmt='psql'))\n"
   ]
  }
 ],
 "metadata": {
  "kernelspec": {
   "display_name": "Python 3 (ipykernel)",
   "language": "python",
   "name": "python3"
  },
  "language_info": {
   "codemirror_mode": {
    "name": "ipython",
    "version": 3
   },
   "file_extension": ".py",
   "mimetype": "text/x-python",
   "name": "python",
   "nbconvert_exporter": "python",
   "pygments_lexer": "ipython3",
   "version": "3.12.4"
  }
 },
 "nbformat": 4,
 "nbformat_minor": 5
}
